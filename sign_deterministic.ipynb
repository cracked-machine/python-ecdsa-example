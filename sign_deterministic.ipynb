{
 "cells": [
  {
   "cell_type": "code",
   "execution_count": 4,
   "metadata": {},
   "outputs": [
    {
     "name": "stdout",
     "output_type": "stream",
     "text": [
      "Valid signature\n"
     ]
    }
   ],
   "source": [
    "# sign/verify message using function that automatically generates a hash\n",
    "\n",
    "from hashlib import sha256\n",
    "from ecdsa.keys import SigningKey\n",
    "from ecdsa import BadSignatureError\n",
    "from ecdsa.util import sigencode_der, sigdecode_der\n",
    "\n",
    "private_key = SigningKey.generate()\n",
    "public_key = private_key.get_verifying_key()\n",
    "\n",
    "msg_str = 'Hello World'\n",
    "msg_bytes = msg_str.encode('utf-8')\n",
    "\n",
    "sig = private_key.sign_deterministic(\n",
    "    msg_bytes,\n",
    "    hashfunc=sha256,\n",
    "    sigencode=sigencode_der,\n",
    ")\n",
    "\n",
    "# uncomment to inspect the signature as asn1-encoded file\n",
    "# with open('sig.der', 'wb') as fp:\n",
    "#     fp.write(sig)\n",
    "\n",
    "try:\n",
    "    ret = public_key.verify(sig, msg_bytes, sha256, sigdecode=sigdecode_der)\n",
    "    assert ret\n",
    "    print(\"Valid signature\")\n",
    "except BadSignatureError:\n",
    "    print(\"Incorrect signature\")"
   ]
  }
 ],
 "metadata": {
  "kernelspec": {
   "display_name": "Python 3",
   "language": "python",
   "name": "python3"
  },
  "language_info": {
   "codemirror_mode": {
    "name": "ipython",
    "version": 3
   },
   "file_extension": ".py",
   "mimetype": "text/x-python",
   "name": "python",
   "nbconvert_exporter": "python",
   "pygments_lexer": "ipython3",
   "version": "3.12.6"
  }
 },
 "nbformat": 4,
 "nbformat_minor": 2
}
