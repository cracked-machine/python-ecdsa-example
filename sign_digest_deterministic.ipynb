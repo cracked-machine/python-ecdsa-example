{
 "cells": [
  {
   "cell_type": "code",
   "execution_count": 3,
   "metadata": {},
   "outputs": [
    {
     "name": "stdout",
     "output_type": "stream",
     "text": [
      "Valid signature\n"
     ]
    }
   ],
   "source": [
    "\n",
    "\n",
    "from hashlib import sha256\n",
    "from ecdsa.keys import SigningKey\n",
    "from ecdsa import BadSignatureError\n",
    "from ecdsa.util import sigencode_der, sigdecode_der\n",
    "\n",
    "private_key = SigningKey.generate()\n",
    "public_key = private_key.get_verifying_key()\n",
    "\n",
    "msg_str = 'Hello World'\n",
    "msg_bytes = msg_str.encode('utf-8')\n",
    "\n",
    "msg_digest = sha256(memoryview(msg_bytes)).digest()\n",
    "\n",
    "sig = private_key.sign_digest_deterministic(\n",
    "    msg_digest,\n",
    "    sigencode=sigencode_der,\n",
    "    allow_truncate=True\n",
    ")\n",
    "\n",
    "# uncomment to inspect the signature as asn1-encoded file\n",
    "# with open('sig.der', 'wb') as fp:\n",
    "#     fp.write(sig)\n",
    "\n",
    "try:\n",
    "    ret = public_key.verify_digest(\n",
    "        sig, \n",
    "        msg_digest, \n",
    "        sigdecode=sigdecode_der, \n",
    "        allow_truncate=True\n",
    "    )\n",
    "    \n",
    "    assert ret\n",
    "    print(\"Valid signature\")\n",
    "except BadSignatureError:\n",
    "    print(\"Incorrect signature\")"
   ]
  }
 ],
 "metadata": {
  "kernelspec": {
   "display_name": "Python 3",
   "language": "python",
   "name": "python3"
  },
  "language_info": {
   "codemirror_mode": {
    "name": "ipython",
    "version": 3
   },
   "file_extension": ".py",
   "mimetype": "text/x-python",
   "name": "python",
   "nbconvert_exporter": "python",
   "pygments_lexer": "ipython3",
   "version": "3.12.6"
  }
 },
 "nbformat": 4,
 "nbformat_minor": 2
}
